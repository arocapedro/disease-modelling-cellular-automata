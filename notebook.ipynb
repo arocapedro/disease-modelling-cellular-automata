{
 "cells": [
  {
   "cell_type": "code",
   "execution_count": null,
   "metadata": {},
   "outputs": [],
   "source": [
    "import random\n",
    "import matplotlib\n",
    "import numpy as np\n",
    "import pandas as pd\n",
    "import seaborn as sns\n",
    "\n",
    "random.seed = 1337\n",
    "from tqdm import tqdm\n",
    "import matplotlib.pyplot as plt\n",
    "from IPython.display import HTML\n",
    "from matplotlib import animation, colors\n",
    "matplotlib.rcParams['animation.embed_limit'] = 2**128"
   ]
  },
  {
   "cell_type": "code",
   "execution_count": null,
   "metadata": {},
   "outputs": [],
   "source": [
    "from grid import Grid\n",
    "from state import State"
   ]
  },
  {
   "cell_type": "code",
   "execution_count": null,
   "metadata": {},
   "outputs": [],
   "source": [
    "%load_ext autoreload\n",
    "%autoreload 2"
   ]
  },
  {
   "cell_type": "code",
   "execution_count": null,
   "metadata": {},
   "outputs": [],
   "source": [
    "nrows = 180\n",
    "ncols = 180\n",
    "n_frames = 100\n",
    "lock_a = 0\n",
    "lock_dur = 0\n",
    "\n",
    "g = Grid(nrows, ncols, num_part=10000, init_infected=5, \n",
    "            infectious_radius=1, lockdown_at=lock_a, \n",
    "            tp_chance=0.1, lockdown_dur=lock_dur)\n",
    "\n",
    "history = []\n",
    "fig, ax = plt.subplots(figsize=(8, 8))\n",
    "\n",
    "plt.ion()  \n",
    "color_list = [\"white\", \"blue\", \"purple\", \"red\", \"purple\"]\n",
    "cmap = colors.LinearSegmentedColormap.from_list(\"\", color_list)\n",
    "im = ax.imshow(g.grid, origin=\"lower\", vmin=0, vmax=State.max_value(), cmap=cmap)\n",
    "\n",
    "def init():\n",
    "    im.set_data(np.zeros((nrows, ncols)))\n",
    "    g.make_simulation(n_frames)\n",
    "\n",
    "def animate(i):\n",
    "    im.set_data(g.history[i])\n",
    "    return im\n",
    "\n",
    "anim = animation.FuncAnimation(fig, animate, init_func=init, \n",
    "                                frames=tqdm(range(n_frames)), interval=90)"
   ]
  },
  {
   "cell_type": "code",
   "execution_count": null,
   "metadata": {},
   "outputs": [],
   "source": [
    "HTML(anim.to_jshtml())"
   ]
  },
  {
   "cell_type": "code",
   "execution_count": null,
   "metadata": {},
   "outputs": [],
   "source": [
    "color_list = [\"blue\",\"red\",\"green\",\"purple\"]\n",
    "cmap = colors.LinearSegmentedColormap.from_list(\"\", color_list)\n",
    "sns.lineplot(data=g.pd_stats,palette=color_list ).set(title = 'CA model', xlabel = 'Days', ylabel = 'Population')\n",
    "#plt.axvline(lock_a)\n",
    "#plt.axvline(lock_a+lock_dur)"
   ]
  }
 ],
 "metadata": {
  "kernelspec": {
   "display_name": "Python 3.10.1 64-bit",
   "language": "python",
   "name": "python3"
  },
  "language_info": {
   "codemirror_mode": {
    "name": "ipython",
    "version": 3
   },
   "file_extension": ".py",
   "mimetype": "text/x-python",
   "name": "python",
   "nbconvert_exporter": "python",
   "pygments_lexer": "ipython3",
   "version": "3.10.1"
  },
  "orig_nbformat": 4,
  "vscode": {
   "interpreter": {
    "hash": "3763ad9f89648d847e6f5401e1219410b4a0054c5a073f5da0c68452446768ec"
   }
  }
 },
 "nbformat": 4,
 "nbformat_minor": 2
}
